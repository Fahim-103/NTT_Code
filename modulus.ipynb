{
 "cells": [
  {
   "cell_type": "code",
   "execution_count": 31,
   "id": "3214cee4",
   "metadata": {},
   "outputs": [
    {
     "name": "stdout",
     "output_type": "stream",
     "text": [
      "225\n",
      "72\n",
      "46\n",
      "6\n",
      "16\n",
      "22\n",
      "125\n",
      "119\n",
      "64\n",
      "121\n",
      "127\n",
      "59\n",
      "2\n",
      "126\n",
      "24\n",
      "121\n"
     ]
    }
   ],
   "source": [
    "x = [1767,\t352933,\t-25654,\t-580557,\t-1783,\t-2933890,\t1176928,\t3489922,\t-193,\t-112445,\t30710,\t308973,\t1801,\t2705822,\t-1182176,\t-3229598\n",
    "] \n",
    "for a in x:\n",
    "    print (a % 257)"
   ]
  },
  {
   "cell_type": "code",
   "execution_count": 32,
   "id": "868d5376",
   "metadata": {},
   "outputs": [
    {
     "name": "stdout",
     "output_type": "stream",
     "text": [
      "[195, 28, 248, 3, 230, 89, 111, 104, 140, 129, 89, 15, 72, 82, 75, 90]\n"
     ]
    }
   ],
   "source": [
    "import random\n",
    "z = []\n",
    "y = random.sample(range(0, 1000), 16)\n",
    "for a in y:\n",
    "    z.append(a%257)\n",
    "print (z)"
   ]
  }
 ],
 "metadata": {
  "kernelspec": {
   "display_name": "Python 3 (ipykernel)",
   "language": "python",
   "name": "python3"
  },
  "language_info": {
   "codemirror_mode": {
    "name": "ipython",
    "version": 3
   },
   "file_extension": ".py",
   "mimetype": "text/x-python",
   "name": "python",
   "nbconvert_exporter": "python",
   "pygments_lexer": "ipython3",
   "version": "3.11.5"
  }
 },
 "nbformat": 4,
 "nbformat_minor": 5
}
