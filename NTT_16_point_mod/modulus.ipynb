{
 "cells": [
  {
   "cell_type": "code",
   "execution_count": 11,
   "id": "964bd9e1",
   "metadata": {},
   "outputs": [
    {
     "data": {
      "text/plain": [
       "[225, 121, 24, 126, 2, 59, 127, 121, 64, 119, 125, 22, 16, 6, 46, 72]"
      ]
     },
     "execution_count": 11,
     "metadata": {},
     "output_type": "execute_result"
    }
   ],
   "source": [
    "from sympy import ntt, intt\n",
    "ntt([160, 124, 81, 103, 204, 114, 75, 250, 15, 138, 194, 38, 19, 58, 39, 155], prime=16*2**4 + 1)"
   ]
  },
  {
   "cell_type": "code",
   "execution_count": 10,
   "id": "813d2da7",
   "metadata": {},
   "outputs": [
    {
     "data": {
      "text/plain": [
       "GF([225, 121,  24, 126,   2,  59, 127, 121,  64, 119, 125,  22,  16,   6,\n",
       "     46,  72], order=257)"
      ]
     },
     "execution_count": 10,
     "metadata": {},
     "output_type": "execute_result"
    }
   ],
   "source": [
    "import galois\n",
    "galois.ntt([160, 124, 81, 103, 204, 114, 75, 250, 15, 138, 194, 38, 19, 58, 39, 155], modulus=257)"
   ]
  },
  {
   "cell_type": "code",
   "execution_count": 6,
   "id": "3214cee4",
   "metadata": {},
   "outputs": [
    {
     "name": "stdout",
     "output_type": "stream",
     "text": [
      "225\n",
      "72\n",
      "46\n",
      "6\n",
      "16\n",
      "22\n",
      "125\n",
      "119\n",
      "64\n",
      "121\n",
      "127\n",
      "59\n",
      "2\n",
      "126\n",
      "24\n",
      "121\n"
     ]
    }
   ],
   "source": [
    "x = [1767,\t352933,\t-25654,\t-580557,\t-1783,\t-2933890,\t1176928,\t3489922,\t-193,\t-112445,\t30710,\t308973,\t1801,\t2705822,\t-1182176,\t-3229598\n",
    "] \n",
    "for a in x:\n",
    "    print (a % 257)"
   ]
  },
  {
   "cell_type": "code",
   "execution_count": 7,
   "id": "f6220fea",
   "metadata": {},
   "outputs": [
    {
     "name": "stdout",
     "output_type": "stream",
     "text": [
      "225\n",
      "72\n",
      "46\n",
      "6\n",
      "16\n",
      "22\n",
      "125\n",
      "119\n",
      "64\n",
      "121\n",
      "127\n",
      "59\n",
      "2\n",
      "126\n",
      "24\n",
      "121\n"
     ]
    }
   ],
   "source": [
    "x = [482,\t586,\t560,\t263,\t6698,\t5162,\t3980,\t4488,\t578,\t378,\t384,\t573,\t2058,\t3210,\t5164,\t3976\n",
    "    ]\n",
    "for a in x:\n",
    "    print (a % 257)"
   ]
  },
  {
   "cell_type": "code",
   "execution_count": 8,
   "id": "868d5376",
   "metadata": {},
   "outputs": [
    {
     "name": "stdout",
     "output_type": "stream",
     "text": [
      "[144, 198, 159, 149, 10, 73, 181, 71, 162, 47, 107, 144, 59, 15, 68, 14]\n"
     ]
    }
   ],
   "source": [
    "import random\n",
    "z = []\n",
    "y = random.sample(range(0, 1000), 16)\n",
    "for a in y:\n",
    "    z.append(a%257)\n",
    "print (z)"
   ]
  },
  {
   "cell_type": "code",
   "execution_count": 9,
   "id": "b97fb4f1",
   "metadata": {},
   "outputs": [
    {
     "name": "stdout",
     "output_type": "stream",
     "text": [
      "Requirement already satisfied: galois in /home/secure/anaconda_3/lib/python3.11/site-packages (0.3.8)\n",
      "Requirement already satisfied: numpy<1.27,>=1.21.0 in /home/secure/anaconda_3/lib/python3.11/site-packages (from galois) (1.24.3)\n",
      "Requirement already satisfied: numba<0.60,>=0.55 in /home/secure/anaconda_3/lib/python3.11/site-packages (from galois) (0.57.1)\n",
      "Requirement already satisfied: typing-extensions>=4.0.0 in /home/secure/anaconda_3/lib/python3.11/site-packages (from galois) (4.7.1)\n",
      "Requirement already satisfied: llvmlite<0.41,>=0.40.0dev0 in /home/secure/anaconda_3/lib/python3.11/site-packages (from numba<0.60,>=0.55->galois) (0.40.0)\n",
      "Note: you may need to restart the kernel to use updated packages.\n"
     ]
    }
   ],
   "source": [
    "pip install galois"
   ]
  }
 ],
 "metadata": {
  "kernelspec": {
   "display_name": "Python 3 (ipykernel)",
   "language": "python",
   "name": "python3"
  },
  "language_info": {
   "codemirror_mode": {
    "name": "ipython",
    "version": 3
   },
   "file_extension": ".py",
   "mimetype": "text/x-python",
   "name": "python",
   "nbconvert_exporter": "python",
   "pygments_lexer": "ipython3",
   "version": "3.11.5"
  }
 },
 "nbformat": 4,
 "nbformat_minor": 5
}
